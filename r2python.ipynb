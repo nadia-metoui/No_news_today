{
 "cells": [
  {
   "cell_type": "code",
   "execution_count": 1,
   "metadata": {},
   "outputs": [],
   "source": [
    "path='C:/Users/Nadia/Documents/GitHub/No_news_today/Backup Clickstream/R_Code/robin2_parse.R'\n",
    "R_file=open(path,'r')\n",
    "r_code=R_file.read()\n",
    "R_file.close()"
   ]
  },
  {
   "cell_type": "code",
   "execution_count": 2,
   "metadata": {},
   "outputs": [
    {
     "name": "stderr",
     "output_type": "stream",
     "text": [
      "line 15:11 no viable alternative at input '[,'\n",
      "line 15:11 extraneous input ',' expecting {'-', '+', '!', '{', '?', 'break', '(', '.', '...', 'NULL', ':', 'NA', 'Inf', 'NaN', 'TRUE', 'FALSE', 'next', 'repeat', 'while', 'for', 'if', 'return', 'within', 'function', '~', HEX, INT, FLOAT, COMPLEX, STRING, ID, NL}\n",
      "line 23:21 no viable alternative at input '[,'\n",
      "line 23:21 extraneous input ',' expecting {'-', '+', '!', '{', '?', 'break', '(', '.', '...', 'NULL', ':', 'NA', 'Inf', 'NaN', 'TRUE', 'FALSE', 'next', 'repeat', 'while', 'for', 'if', 'return', 'within', 'function', '~', HEX, INT, FLOAT, COMPLEX, STRING, ID, NL}\n"
     ]
    }
   ],
   "source": [
    "from pyensae.languages import r2python\n",
    "py_code=r2python(r_code, pep8=True)"
   ]
  },
  {
   "cell_type": "code",
   "execution_count": 3,
   "metadata": {},
   "outputs": [
    {
     "data": {
      "text/plain": [
       "'from python2r_helper import make_tuple\\n\\n# robin_parse.R\\n# load libraries\\nlibrary(\"readr\")\\nlibrary(\"dplyr\")\\nlibrary(\"stringr\")\\nlibrary(\"ggplot2\")\\nlibrary(\"urltools\")\\nlibrary(\"igraph\")\\n# read -- much better with readr::read_csv\\nrob = read_csv(\"HBI_clickstream_june17tojan18.csv\")\\n# preprocessing\\nrob = rob[make_tuple(2, range(4, 8))]\\nrob = arrange(rob, API_key, session_id, timestamp)\\nrob . domain = str_replace(rob . domain, \"www.\", \"\")\\n# is this appropriate?\\n# is this appropriate?\\nrob . domain = str_replace(rob . domain, \"safebrowsing-cache.\", \"\") rob . domain = str_replace(rob . domain, \"nl-nl.\", \"\")\\n# annotate with site types (variables \\'category\\' and \\'cp.code\\')\\ncodelist = read_csv(\\n    \"Annotated whitelist2.csv\",\\n    sep=\";\",\\n    stringsAsFactors=F,\\n    fileEncoding=\"latin1\")\\ncodelist = codelist[make_tuple(3, 4, 6)]\\ncolnames(codelist)[1] .set(\"domain\")\\ncolnames(codelist)[2] .set(\"category\")\\ncolnames(codelist)[3] .set(\"cp.code\")\\ncodes = as_character(codelist . cp_code)\\ncodes = str_sub(codes, start=nchar(codes), end=nchar(codes))\\ncodes[~  set(codes) & set(make_tuple(\"G\", \"N\", \"S\"))] = \"X\"\\n# codes[!codes %in% c(\"G\", \"I\", \"N\", \"P\", \"S\", \"V\")] <- \"X\"\\ncodelist . cp_code = codes\\n# codelist$domain <- iconv(codelist$domain, from = \"UTF-8\", to = \"latin1\",\\n# \"byte\")\\ncodelist . domain = gsub(\"\\\\u0083??\", \"\", codelist . domain, fixed=T)\\ncodelist . domain = str_replace(codelist . domain, \"www.\", \"\")\\ncodelist . domain = str_replace(codelist . domain, \"https://\", \"\")\\ncodelist . domain = str_replace(codelist . domain, \"http://\", \"\")\\ncodelist . domain = str_replace_all(codelist . domain, \"/\", \"\")\\ncodelist . domain = str_replace_all(codelist . domain, \" \", \"\")\\ncodelist = filter(codelist, domain != \"\" & category != \"\")\\nrob = left_join(rob, codelist, by=\"domain\")\\nrob . is_homepage = is_na(url_parse(rob . page_url) . path)\\nrob . cp_code[rob . cp_code == \"N\" & rob . is_homepage == True] = \"N1\"\\nrob . cp_code[rob . cp_code == \"N\" & rob . is_homepage == False] = \"N2\"\\nrob . cp_code[is_na(rob . cp_code)] = \"X\"\\nrm(codes)\\n'"
      ]
     },
     "execution_count": 3,
     "metadata": {},
     "output_type": "execute_result"
    }
   ],
   "source": [
    "py_code"
   ]
  },
  {
   "cell_type": "code",
   "execution_count": 4,
   "metadata": {},
   "outputs": [],
   "source": [
    "py_file = open(\"robin2_parse.py\", \"w\")\n",
    "\n",
    "py_file.write(py_code)\n",
    "\n",
    "py_file.close()"
   ]
  },
  {
   "cell_type": "code",
   "execution_count": null,
   "metadata": {},
   "outputs": [],
   "source": []
  }
 ],
 "metadata": {
  "kernelspec": {
   "display_name": "Python 3",
   "language": "python",
   "name": "python3"
  },
  "language_info": {
   "codemirror_mode": {
    "name": "ipython",
    "version": 3
   },
   "file_extension": ".py",
   "mimetype": "text/x-python",
   "name": "python",
   "nbconvert_exporter": "python",
   "pygments_lexer": "ipython3",
   "version": "3.7.0"
  }
 },
 "nbformat": 4,
 "nbformat_minor": 2
}
